{
 "cells": [
  {
   "cell_type": "code",
   "execution_count": 1,
   "id": "0f2562c9",
   "metadata": {},
   "outputs": [
    {
     "name": "stdout",
     "output_type": "stream",
     "text": [
      "Enter your first name: Rabisa\n",
      "Enter your last name: Mushtaq\n",
      "Mushtaq Rabisa\n"
     ]
    }
   ],
   "source": [
    "#Write a program which accepts users first and last name and print them in reverse order with a space between them.\n",
    "first= input(\"Enter your first name: \");\n",
    "last= input(\"Enter your last name: \");\n",
    "print(last+\" \"+first)"
   ]
  },
  {
   "cell_type": "code",
   "execution_count": null,
   "id": "90e388bf",
   "metadata": {},
   "outputs": [],
   "source": []
  }
 ],
 "metadata": {
  "kernelspec": {
   "display_name": "Python 3",
   "language": "python",
   "name": "python3"
  },
  "language_info": {
   "codemirror_mode": {
    "name": "ipython",
    "version": 3
   },
   "file_extension": ".py",
   "mimetype": "text/x-python",
   "name": "python",
   "nbconvert_exporter": "python",
   "pygments_lexer": "ipython3",
   "version": "3.8.8"
  }
 },
 "nbformat": 4,
 "nbformat_minor": 5
}

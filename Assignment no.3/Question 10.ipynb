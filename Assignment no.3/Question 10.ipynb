{
 "cells": [
  {
   "cell_type": "code",
   "execution_count": 2,
   "id": "baf21b75",
   "metadata": {},
   "outputs": [
    {
     "name": "stdout",
     "output_type": "stream",
     "text": [
      "Sum of numeric items in list is:  194\n"
     ]
    }
   ],
   "source": [
    "#Write a program to sum all the Numeric items in the list\n",
    "list=[33, 5, 7, 9, 11, 72, 36, 20, 1 ];\n",
    "print(\"Sum of numeric items in list is: \",sum(list))"
   ]
  },
  {
   "cell_type": "code",
   "execution_count": null,
   "id": "151d1fd3",
   "metadata": {},
   "outputs": [],
   "source": []
  }
 ],
 "metadata": {
  "kernelspec": {
   "display_name": "Python 3",
   "language": "python",
   "name": "python3"
  },
  "language_info": {
   "codemirror_mode": {
    "name": "ipython",
    "version": 3
   },
   "file_extension": ".py",
   "mimetype": "text/x-python",
   "name": "python",
   "nbconvert_exporter": "python",
   "pygments_lexer": "ipython3",
   "version": "3.8.8"
  }
 },
 "nbformat": 4,
 "nbformat_minor": 5
}

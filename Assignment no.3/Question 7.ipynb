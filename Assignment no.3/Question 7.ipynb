{
 "cells": [
  {
   "cell_type": "code",
   "execution_count": 1,
   "id": "609fc551",
   "metadata": {},
   "outputs": [
    {
     "name": "stdout",
     "output_type": "stream",
     "text": [
      "Enter Marks gained in English: 95\n",
      "Enter Marks gained in Maths: 95\n",
      "Enter Marks gained in science: 94\n",
      "Enter Marks gained in Islamiat: 55\n",
      "Enter Marks gained in Urdu: 84\n",
      "Total Marks= 500\n",
      "Obtained Marks= 423\n",
      "Percentage= 84.6 %\n",
      "Grade A+\n"
     ]
    }
   ],
   "source": [
    "#Write a program which takes five inputs from user for different subjects marks,total it and generate marksheet using grades\n",
    "eng=int(input(\"Enter Marks gained in English: \"));\n",
    "maths=int(input(\"Enter Marks gained in Maths: \"));\n",
    "sci=int(input(\"Enter Marks gained in science: \"));\n",
    "isl=int(input(\"Enter Marks gained in Islamiat: \"));\n",
    "urdu=int(input(\"Enter Marks gained in Urdu: \"));\n",
    "Obtained= eng+maths+sci+isl+urdu;\n",
    "Total=500\n",
    "Percent= Obtained/Total*100\n",
    "print(\"Total Marks=\", Total)\n",
    "print(\"Obtained Marks=\", Obtained)\n",
    "print(\"Percentage=\",Percent ,\"%\")\n",
    "if Percent < 100 and Percent >= 80:\n",
    "    print(\"Grade A+\")\n",
    "elif Percent < 80 and Percent >= 70:\n",
    "    print(\"Grade A\")\n",
    "elif Percent < 70 and Percent >= 60:\n",
    "    print(\"Grade B\")\n",
    "elif Percent < 60 and Percent >= 50:\n",
    "    print(\"Grade C\")\n",
    "elif Percent < 50 and Percent >= 40:\n",
    "    print(\"Grade D\")\n",
    "elif Percent < 40 and Percent >= 33:\n",
    "    print(\"Grade E\")\n",
    "else:\n",
    "    print(\"fail\")"
   ]
  },
  {
   "cell_type": "code",
   "execution_count": null,
   "id": "ba212a56",
   "metadata": {},
   "outputs": [],
   "source": []
  }
 ],
 "metadata": {
  "kernelspec": {
   "display_name": "Python 3",
   "language": "python",
   "name": "python3"
  },
  "language_info": {
   "codemirror_mode": {
    "name": "ipython",
    "version": 3
   },
   "file_extension": ".py",
   "mimetype": "text/x-python",
   "name": "python",
   "nbconvert_exporter": "python",
   "pygments_lexer": "ipython3",
   "version": "3.8.8"
  }
 },
 "nbformat": 4,
 "nbformat_minor": 5
}

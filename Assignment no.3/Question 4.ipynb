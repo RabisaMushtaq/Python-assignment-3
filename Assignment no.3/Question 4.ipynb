{
 "cells": [
  {
   "cell_type": "code",
   "execution_count": 1,
   "id": "2c4df1dd",
   "metadata": {},
   "outputs": [
    {
     "name": "stdout",
     "output_type": "stream",
     "text": [
      "Enter Radius of a circle: 3\n",
      "Area of circle is=  28.274333882308138\n"
     ]
    }
   ],
   "source": [
    "#Write a python program which accepts the radius of a circle from the user and compute the area\n",
    "r=int(input(\"Enter Radius of a circle: \"));\n",
    "import math\n",
    "Area= math.pi*(r**2);\n",
    "print(\"Area of circle is= \",Area)"
   ]
  },
  {
   "cell_type": "code",
   "execution_count": null,
   "id": "f608484d",
   "metadata": {},
   "outputs": [],
   "source": []
  }
 ],
 "metadata": {
  "kernelspec": {
   "display_name": "Python 3",
   "language": "python",
   "name": "python3"
  },
  "language_info": {
   "codemirror_mode": {
    "name": "ipython",
    "version": 3
   },
   "file_extension": ".py",
   "mimetype": "text/x-python",
   "name": "python",
   "nbconvert_exporter": "python",
   "pygments_lexer": "ipython3",
   "version": "3.8.8"
  }
 },
 "nbformat": 4,
 "nbformat_minor": 5
}

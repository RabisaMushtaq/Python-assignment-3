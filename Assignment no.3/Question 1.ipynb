{
 "cells": [
  {
   "cell_type": "code",
   "execution_count": 1,
   "id": "43a5bb05",
   "metadata": {},
   "outputs": [
    {
     "name": "stdout",
     "output_type": "stream",
     "text": [
      "           Twinkle,twinkle, little star,\n",
      "                     How I wonder what you are !\n",
      "                               Up above the world so high,\n",
      "                               like a diamond in the sky.\n",
      "           Twinkle,twinkle, little star,\n",
      "                     Twinkle,twinkle, little star,\n"
     ]
    }
   ],
   "source": [
    "#Write a python program to print the following string in a specific format\n",
    "x=' '\n",
    "a=\"Twinkle,twinkle, little star,\";\n",
    "b=\"How I wonder what you are\";\n",
    "c=\"Up above the world so high,\";\n",
    "d=\"like a diamond in the sky.\";\n",
    "print(x*10,a)\n",
    "print(x*20,b,\"!\")\n",
    "print(x*30,c)\n",
    "print(x*30,d)\n",
    "print(x*10,a)\n",
    "print(x*20,a)"
   ]
  },
  {
   "cell_type": "code",
   "execution_count": null,
   "id": "2f568219",
   "metadata": {},
   "outputs": [],
   "source": []
  }
 ],
 "metadata": {
  "kernelspec": {
   "display_name": "Python 3",
   "language": "python",
   "name": "python3"
  },
  "language_info": {
   "codemirror_mode": {
    "name": "ipython",
    "version": 3
   },
   "file_extension": ".py",
   "mimetype": "text/x-python",
   "name": "python",
   "nbconvert_exporter": "python",
   "pygments_lexer": "ipython3",
   "version": "3.8.8"
  }
 },
 "nbformat": 4,
 "nbformat_minor": 5
}

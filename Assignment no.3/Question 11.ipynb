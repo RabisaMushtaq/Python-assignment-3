{
 "cells": [
  {
   "cell_type": "code",
   "execution_count": 1,
   "id": "f4fe8e16",
   "metadata": {},
   "outputs": [
    {
     "name": "stdout",
     "output_type": "stream",
     "text": [
      "largest number from the list is:  871\n"
     ]
    }
   ],
   "source": [
    "#Write a python program to get the largest number from the list\n",
    "list1=[33, 194, 5, 77, 92, 11, 72, 36, 20, 1, 871, 301, 44, 32, 423];\n",
    "print(\"largest number from the list is: \",max(list1))"
   ]
  },
  {
   "cell_type": "code",
   "execution_count": null,
   "id": "7358d85c",
   "metadata": {},
   "outputs": [],
   "source": []
  }
 ],
 "metadata": {
  "kernelspec": {
   "display_name": "Python 3",
   "language": "python",
   "name": "python3"
  },
  "language_info": {
   "codemirror_mode": {
    "name": "ipython",
    "version": 3
   },
   "file_extension": ".py",
   "mimetype": "text/x-python",
   "name": "python",
   "nbconvert_exporter": "python",
   "pygments_lexer": "ipython3",
   "version": "3.8.8"
  }
 },
 "nbformat": 4,
 "nbformat_minor": 5
}
